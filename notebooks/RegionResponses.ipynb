{
 "cells": [
  {
   "cell_type": "code",
   "execution_count": 1,
   "metadata": {},
   "outputs": [],
   "source": [
    "import pandas as pd\n",
    "import numpy as np\n",
    "import matplotlib.pyplot as plt\n",
    "import seaborn as sns"
   ]
  },
  {
   "cell_type": "code",
   "execution_count": 2,
   "metadata": {
    "id": "XRRCdxe0E6Q4"
   },
   "outputs": [],
   "source": [
    "# Import data\n",
    "df = pd.read_csv(\"../data/survey2024.csv\")"
   ]
  },
  {
   "cell_type": "markdown",
   "metadata": {
    "id": "29T0FoVFVtJI"
   },
   "source": [
    "Get questions"
   ]
  },
  {
   "cell_type": "code",
   "execution_count": 3,
   "metadata": {
    "colab": {
     "base_uri": "https://localhost:8080/"
    },
    "id": "1wNlhWUhFnwq",
    "outputId": "070eb58c-68e5-46d5-b162-f01b885d0b04"
   },
   "outputs": [
    {
     "name": "stdout",
     "output_type": "stream",
     "text": [
      "Index(['Timestamp', 'What is your gender?', 'What is your age group?',\n",
      "       'Which of these describe your position? Choose all options that apply.',\n",
      "       'Are you currently in a permanent position?',\n",
      "       'In which of these sector(s) do you work?', 'What is your location?',\n",
      "       'Q1: How would you describe your work?  Choose all options that apply.',\n",
      "       'Q2: Which of the following do you work in? Choose all options that apply.',\n",
      "       'Q3: Where do bioimage analysts \"sit\" in your institution? Choose all options that apply. ',\n",
      "       'Q4: If you work in a facility: what are the operating/business models of your facility? Choose all options that apply. Please do not answer if you do not work in a facility.',\n",
      "       'Q5: If you work in a facility: how much of your budget comes from each of these? Please do not answer if you do not work in a facility. [grants you apply for]',\n",
      "       'Q5: If you work in a facility: how much of your budget comes from each of these? Please do not answer if you do not work in a facility. [grants someone else applies for]',\n",
      "       'Q5: If you work in a facility: how much of your budget comes from each of these? Please do not answer if you do not work in a facility. [internal granted funding]',\n",
      "       'Q5: If you work in a facility: how much of your budget comes from each of these? Please do not answer if you do not work in a facility. [recharge for consulting]',\n",
      "       'Q5: If you work in a facility: how much of your budget comes from each of these? Please do not answer if you do not work in a facility. [recharge on image analysis projects (data analysis as a service)]',\n",
      "       'Q5: If you work in a facility: how much of your budget comes from each of these? Please do not answer if you do not work in a facility. [recharge on other services (e.g. microscope time)]',\n",
      "       'Q5: If you work in a facility: how much of your budget comes from each of these? Please do not answer if you do not work in a facility. [I don't know]',\n",
      "       'Q6: How many of the following do you do as part of your typical job? Choose all options that apply.',\n",
      "       'Q7: How much of your time do you spend on each of the following?  [bioimage analysis instruction]',\n",
      "       'Q7: How much of your time do you spend on each of the following?  [bioimage analysis service]',\n",
      "       'Q7: How much of your time do you spend on each of the following?  [bioimage analysis infrastructure development and maintenance:]',\n",
      "       'Q7: How much of your time do you spend on each of the following?  [own bioimage analysis project]',\n",
      "       'Q7: How much of your time do you spend on each of the following?  [bioimage analysis tool development (not bound to a single service project)]',\n",
      "       'Q7: How much of your time do you spend on each of the following?  [management / administration]',\n",
      "       'Q8: Have you been involved with NEUBIAS before? Choose all options that apply.',\n",
      "       'Q9: How can GloBIAS support you in your bioimage analysis endeavours?',\n",
      "       'Q10: What type of activity would you want GloBIAS to offer in the first twelve months after its foundation? [in-person workshops on: how to teach bioimage analysis workflows]',\n",
      "       'Q10: What type of activity would you want GloBIAS to offer in the first twelve months after its foundation? [in-person workshop on new bioimage analysis software tools]',\n",
      "       'Q10: What type of activity would you want GloBIAS to offer in the first twelve months after its foundation? [online events discussing image data infrastructure and image data management]',\n",
      "       'Q10: What type of activity would you want GloBIAS to offer in the first twelve months after its foundation? [online events on new bioimage analysis software tools]',\n",
      "       'Q10: What type of activity would you want GloBIAS to offer in the first twelve months after its foundation? [online events from companies demonstrating their software]',\n",
      "       'Q10: What type of activity would you want GloBIAS to offer in the first twelve months after its foundation? [sessions presenting open bioimage analysis questions, annotated data sets, and an overview explanation of the biology of the data]',\n",
      "       'Q10: What type of activity would you want GloBIAS to offer in the first twelve months after its foundation? [provide basic knowledge and “vocabulary” of new developments in bioimage analysis for better communication between computer scientists, life scientists, imaging specialists and software developers]',\n",
      "       'Q10: What type of activity would you want GloBIAS to offer in the first twelve months after its foundation? [open discussion forum and interaction platform]',\n",
      "       'Q10: What type of activity would you want GloBIAS to offer in the first twelve months after its foundation? [publishing and curating training materials]',\n",
      "       'Q11: Is there a specific type of event not listed in Q10 you would want to see organised by GloBIAS in its first year or thereafter?',\n",
      "       'Q12: If GloBIAS offers regular online events, how often would you ideally want them to happen?',\n",
      "       'Q13: If there was a society such as GloBIAS advocating Bioimage Analysis (BIA) and offering events as discussed above (Q.10), would you be interested to be an active member by helping to organise and run regular online events for GloBIAS?',\n",
      "       'Q14: If there was a Society such as GloBIAS advocating BIA and offering events and services, would you be willing to pay for membership in this society? There would be different fee levels, e.g. for students, postdocs, and ECR, core facility, etc.',\n",
      "       'Q15: Please indicate what fee you would find reasonable for a full membership? The yearly fee will be used for administrative purposes first (webpage, email account, member register). Any remaining money will be used for the aims of the society as defined in its charter. \\nAttention please: suggestion field is assuming an input in Euro!\\n',\n",
      "       'Q16: Would your institution cover such membership fees?',\n",
      "       'Q17: Would you be interested in joining a working group of the society after its foundation for any of the following areas?',\n",
      "       'Q18: What other aspects beside the opportunities listed above would make you most likely to contribute to GloBIAS?',\n",
      "       'Q19: Would you be interested to contribute to the foundation process of GloBIAS during 2024?',\n",
      "       'Q20: Which of these social media platforms do you use in a professional context? (Select all that apply)',\n",
      "       'Q21: Which of these tools do you use in a professional context? \\nUsed mainly for       [image.sc]',\n",
      "       'Q21: Which of these tools do you use in a professional context? \\nUsed mainly for       [Google groups]',\n",
      "       'Q21: Which of these tools do you use in a professional context? \\nUsed mainly for       [GitHub]',\n",
      "       'Q21: Which of these tools do you use in a professional context? \\nUsed mainly for       [Wikipedia]',\n",
      "       'Q21: Which of these tools do you use in a professional context? \\nUsed mainly for       [ChatGPT/BING/Bard]',\n",
      "       'Q21: Which of these tools do you use in a professional context? \\nUsed mainly for       [Monographs, e.g. library or online books]',\n",
      "       'Q22: Interested in getting involved now? If your answer is Yes to any of the questions below please send a short email to info@globias.org using GloBIAS A and/or B in the email topic. Thank you.'],\n",
      "      dtype='object')\n"
     ]
    }
   ],
   "source": [
    "cols=df.columns\n",
    "print(cols)"
   ]
  },
  {
   "cell_type": "markdown",
   "metadata": {},
   "source": [
    "## Location of Respondents"
   ]
  },
  {
   "cell_type": "markdown",
   "metadata": {},
   "source": [
    "Correct values"
   ]
  },
  {
   "cell_type": "code",
   "execution_count": 4,
   "metadata": {},
   "outputs": [],
   "source": [
    "df['What is your location?'] = df['What is your location?'].replace('Australia/ Oceania', 'Australia/Oceania')\n",
    "df['What is your location?'] = df['What is your location?'].replace('Near/ Middle East', 'Middle East')"
   ]
  },
  {
   "cell_type": "markdown",
   "metadata": {
    "id": "XfCn3rpLVvZb"
   },
   "source": [
    "Select location"
   ]
  },
  {
   "cell_type": "code",
   "execution_count": 5,
   "metadata": {
    "id": "IxQkc9kIHOwB"
   },
   "outputs": [],
   "source": [
    "sel = df['What is your location?']\n",
    "loc_data=sel.value_counts()"
   ]
  },
  {
   "cell_type": "markdown",
   "metadata": {
    "id": "R6F6a2kbVw7a"
   },
   "source": [
    "Correct region names"
   ]
  },
  {
   "cell_type": "code",
   "execution_count": 6,
   "metadata": {},
   "outputs": [
    {
     "data": {
      "text/plain": [
       "0                 Europe\n",
       "1                 Europe\n",
       "2          South America\n",
       "3                 Europe\n",
       "4                 Europe\n",
       "             ...        \n",
       "286        South America\n",
       "287        South America\n",
       "288        South America\n",
       "289               Europe\n",
       "290    Australia/Oceania\n",
       "Name: What is your location?, Length: 291, dtype: object"
      ]
     },
     "execution_count": 6,
     "metadata": {},
     "output_type": "execute_result"
    }
   ],
   "source": [
    "df['What is your location?']"
   ]
  },
  {
   "cell_type": "code",
   "execution_count": 7,
   "metadata": {
    "colab": {
     "base_uri": "https://localhost:8080/",
     "height": 300
    },
    "id": "KdqUSP9FJMSf",
    "outputId": "f40ee134-840a-43ad-8eaf-3b1fb1af550e"
   },
   "outputs": [
    {
     "data": {
      "text/html": [
       "<div>\n",
       "<style scoped>\n",
       "    .dataframe tbody tr th:only-of-type {\n",
       "        vertical-align: middle;\n",
       "    }\n",
       "\n",
       "    .dataframe tbody tr th {\n",
       "        vertical-align: top;\n",
       "    }\n",
       "\n",
       "    .dataframe thead th {\n",
       "        text-align: right;\n",
       "    }\n",
       "</style>\n",
       "<table border=\"1\" class=\"dataframe\">\n",
       "  <thead>\n",
       "    <tr style=\"text-align: right;\">\n",
       "      <th></th>\n",
       "      <th>Region</th>\n",
       "      <th>Count</th>\n",
       "    </tr>\n",
       "  </thead>\n",
       "  <tbody>\n",
       "    <tr>\n",
       "      <th>0</th>\n",
       "      <td>Europe</td>\n",
       "      <td>178</td>\n",
       "    </tr>\n",
       "    <tr>\n",
       "      <th>1</th>\n",
       "      <td>North America</td>\n",
       "      <td>46</td>\n",
       "    </tr>\n",
       "    <tr>\n",
       "      <th>2</th>\n",
       "      <td>South America</td>\n",
       "      <td>28</td>\n",
       "    </tr>\n",
       "    <tr>\n",
       "      <th>3</th>\n",
       "      <td>Australia/Oceania</td>\n",
       "      <td>12</td>\n",
       "    </tr>\n",
       "    <tr>\n",
       "      <th>4</th>\n",
       "      <td>Asia</td>\n",
       "      <td>10</td>\n",
       "    </tr>\n",
       "    <tr>\n",
       "      <th>5</th>\n",
       "      <td>Middle East</td>\n",
       "      <td>8</td>\n",
       "    </tr>\n",
       "    <tr>\n",
       "      <th>6</th>\n",
       "      <td>Africa</td>\n",
       "      <td>6</td>\n",
       "    </tr>\n",
       "    <tr>\n",
       "      <th>7</th>\n",
       "      <td>Central America</td>\n",
       "      <td>1</td>\n",
       "    </tr>\n",
       "  </tbody>\n",
       "</table>\n",
       "</div>"
      ],
      "text/plain": [
       "              Region  Count\n",
       "0             Europe    178\n",
       "1      North America     46\n",
       "2      South America     28\n",
       "3  Australia/Oceania     12\n",
       "4               Asia     10\n",
       "5        Middle East      8\n",
       "6             Africa      6\n",
       "7    Central America      1"
      ]
     },
     "execution_count": 7,
     "metadata": {},
     "output_type": "execute_result"
    }
   ],
   "source": [
    "region_counts = df['What is your location?'].value_counts().reset_index()\n",
    "region_counts.columns = ['Region', 'Count']\n",
    "region_counts"
   ]
  },
  {
   "cell_type": "code",
   "execution_count": 8,
   "metadata": {},
   "outputs": [
    {
     "data": {
      "image/png": "[encoded data removed]",
      "text/plain": [
       "<Figure size 800x600 with 1 Axes>"
      ]
     },
     "metadata": {},
     "output_type": "display_data"
    }
   ],
   "source": [
    "plt.figure(figsize=(8, 6))\n",
    "plt.pie(region_counts.Count, labels=region_counts.Region, autopct='%1.1f%%')\n",
    "plt.axis('equal')\n",
    "plt.gca().add_artist(plt.Circle((0,0),0.7,fc='white')) # Add a white circle in the center for the hole\n",
    "plt.title(\"\\n Location of Responders \\n\")\n",
    "plt.savefig(\"../figures/RegionOfResponders.png\", bbox_inches='tight')\n",
    "plt.savefig(\"../figures/RegionOfResponders.svg\", bbox_inches='tight')\n",
    "plt.show()"
   ]
  },
  {
   "cell_type": "markdown",
   "metadata": {},
   "source": [
    "## Age Groups"
   ]
  },
  {
   "cell_type": "code",
   "execution_count": 9,
   "metadata": {},
   "outputs": [
    {
     "data": {
      "text/html": [
       "<div>\n",
       "<style scoped>\n",
       "    .dataframe tbody tr th:only-of-type {\n",
       "        vertical-align: middle;\n",
       "    }\n",
       "\n",
       "    .dataframe tbody tr th {\n",
       "        vertical-align: top;\n",
       "    }\n",
       "\n",
       "    .dataframe thead th {\n",
       "        text-align: right;\n",
       "    }\n",
       "</style>\n",
       "<table border=\"1\" class=\"dataframe\">\n",
       "  <thead>\n",
       "    <tr style=\"text-align: right;\">\n",
       "      <th></th>\n",
       "      <th>What is your location?</th>\n",
       "      <th>What is your age group?</th>\n",
       "      <th>count</th>\n",
       "    </tr>\n",
       "  </thead>\n",
       "  <tbody>\n",
       "    <tr>\n",
       "      <th>0</th>\n",
       "      <td>Europe</td>\n",
       "      <td>30-39</td>\n",
       "      <td>70</td>\n",
       "    </tr>\n",
       "    <tr>\n",
       "      <th>1</th>\n",
       "      <td>Europe</td>\n",
       "      <td>40-49</td>\n",
       "      <td>57</td>\n",
       "    </tr>\n",
       "    <tr>\n",
       "      <th>2</th>\n",
       "      <td>Europe</td>\n",
       "      <td>above 50</td>\n",
       "      <td>26</td>\n",
       "    </tr>\n",
       "    <tr>\n",
       "      <th>3</th>\n",
       "      <td>Europe</td>\n",
       "      <td>20-29</td>\n",
       "      <td>24</td>\n",
       "    </tr>\n",
       "    <tr>\n",
       "      <th>4</th>\n",
       "      <td>North America</td>\n",
       "      <td>30-39</td>\n",
       "      <td>18</td>\n",
       "    </tr>\n",
       "    <tr>\n",
       "      <th>5</th>\n",
       "      <td>South America</td>\n",
       "      <td>20-29</td>\n",
       "      <td>11</td>\n",
       "    </tr>\n",
       "    <tr>\n",
       "      <th>6</th>\n",
       "      <td>North America</td>\n",
       "      <td>above 50</td>\n",
       "      <td>11</td>\n",
       "    </tr>\n",
       "    <tr>\n",
       "      <th>7</th>\n",
       "      <td>North America</td>\n",
       "      <td>40-49</td>\n",
       "      <td>11</td>\n",
       "    </tr>\n",
       "    <tr>\n",
       "      <th>8</th>\n",
       "      <td>South America</td>\n",
       "      <td>40-49</td>\n",
       "      <td>7</td>\n",
       "    </tr>\n",
       "    <tr>\n",
       "      <th>9</th>\n",
       "      <td>Australia/Oceania</td>\n",
       "      <td>30-39</td>\n",
       "      <td>6</td>\n",
       "    </tr>\n",
       "    <tr>\n",
       "      <th>10</th>\n",
       "      <td>South America</td>\n",
       "      <td>above 50</td>\n",
       "      <td>6</td>\n",
       "    </tr>\n",
       "    <tr>\n",
       "      <th>11</th>\n",
       "      <td>North America</td>\n",
       "      <td>20-29</td>\n",
       "      <td>6</td>\n",
       "    </tr>\n",
       "    <tr>\n",
       "      <th>12</th>\n",
       "      <td>Australia/Oceania</td>\n",
       "      <td>40-49</td>\n",
       "      <td>5</td>\n",
       "    </tr>\n",
       "    <tr>\n",
       "      <th>13</th>\n",
       "      <td>Middle East</td>\n",
       "      <td>40-49</td>\n",
       "      <td>4</td>\n",
       "    </tr>\n",
       "    <tr>\n",
       "      <th>14</th>\n",
       "      <td>South America</td>\n",
       "      <td>30-39</td>\n",
       "      <td>4</td>\n",
       "    </tr>\n",
       "    <tr>\n",
       "      <th>15</th>\n",
       "      <td>Asia</td>\n",
       "      <td>30-39</td>\n",
       "      <td>4</td>\n",
       "    </tr>\n",
       "    <tr>\n",
       "      <th>16</th>\n",
       "      <td>Africa</td>\n",
       "      <td>40-49</td>\n",
       "      <td>3</td>\n",
       "    </tr>\n",
       "    <tr>\n",
       "      <th>17</th>\n",
       "      <td>Asia</td>\n",
       "      <td>20-29</td>\n",
       "      <td>3</td>\n",
       "    </tr>\n",
       "    <tr>\n",
       "      <th>18</th>\n",
       "      <td>Middle East</td>\n",
       "      <td>above 50</td>\n",
       "      <td>3</td>\n",
       "    </tr>\n",
       "    <tr>\n",
       "      <th>19</th>\n",
       "      <td>Africa</td>\n",
       "      <td>30-39</td>\n",
       "      <td>2</td>\n",
       "    </tr>\n",
       "    <tr>\n",
       "      <th>20</th>\n",
       "      <td>Asia</td>\n",
       "      <td>40-49</td>\n",
       "      <td>2</td>\n",
       "    </tr>\n",
       "    <tr>\n",
       "      <th>21</th>\n",
       "      <td>Africa</td>\n",
       "      <td>20-29</td>\n",
       "      <td>1</td>\n",
       "    </tr>\n",
       "    <tr>\n",
       "      <th>22</th>\n",
       "      <td>Asia</td>\n",
       "      <td>above 50</td>\n",
       "      <td>1</td>\n",
       "    </tr>\n",
       "    <tr>\n",
       "      <th>23</th>\n",
       "      <td>Australia/Oceania</td>\n",
       "      <td>20-29</td>\n",
       "      <td>1</td>\n",
       "    </tr>\n",
       "    <tr>\n",
       "      <th>24</th>\n",
       "      <td>Middle East</td>\n",
       "      <td>30-39</td>\n",
       "      <td>1</td>\n",
       "    </tr>\n",
       "    <tr>\n",
       "      <th>25</th>\n",
       "      <td>Central America</td>\n",
       "      <td>30-39</td>\n",
       "      <td>1</td>\n",
       "    </tr>\n",
       "  </tbody>\n",
       "</table>\n",
       "</div>"
      ],
      "text/plain": [
       "   What is your location? What is your age group?  count\n",
       "0                  Europe                   30-39     70\n",
       "1                  Europe                   40-49     57\n",
       "2                  Europe                above 50     26\n",
       "3                  Europe                   20-29     24\n",
       "4           North America                   30-39     18\n",
       "5           South America                   20-29     11\n",
       "6           North America                above 50     11\n",
       "7           North America                   40-49     11\n",
       "8           South America                   40-49      7\n",
       "9       Australia/Oceania                   30-39      6\n",
       "10          South America                above 50      6\n",
       "11          North America                   20-29      6\n",
       "12      Australia/Oceania                   40-49      5\n",
       "13            Middle East                   40-49      4\n",
       "14          South America                   30-39      4\n",
       "15                   Asia                   30-39      4\n",
       "16                 Africa                   40-49      3\n",
       "17                   Asia                   20-29      3\n",
       "18            Middle East                above 50      3\n",
       "19                 Africa                   30-39      2\n",
       "20                   Asia                   40-49      2\n",
       "21                 Africa                   20-29      1\n",
       "22                   Asia                above 50      1\n",
       "23      Australia/Oceania                   20-29      1\n",
       "24            Middle East                   30-39      1\n",
       "25        Central America                   30-39      1"
      ]
     },
     "execution_count": 9,
     "metadata": {},
     "output_type": "execute_result"
    }
   ],
   "source": [
    "df_ageGroup = df[['What is your location?','What is your age group?']]\n",
    "df_ageGroupCounts = df_ageGroup.value_counts().reset_index()\n",
    "df_ageGroupCounts"
   ]
  },
  {
   "cell_type": "code",
   "execution_count": null,
   "metadata": {},
   "outputs": [],
   "source": []
  }
 ],
 "metadata": {
  "colab": {
   "provenance": []
  },
  "kernelspec": {
   "display_name": "eda_kernel",
   "language": "python",
   "name": "eda_kernel"
  },
  "language_info": {
   "codemirror_mode": {
    "name": "ipython",
    "version": 3
   },
   "file_extension": ".py",
   "mimetype": "text/x-python",
   "name": "python",
   "nbconvert_exporter": "python",
   "pygments_lexer": "ipython3",
   "version": "3.10.14"
  }
 },
 "nbformat": 4,
 "nbformat_minor": 4
}
