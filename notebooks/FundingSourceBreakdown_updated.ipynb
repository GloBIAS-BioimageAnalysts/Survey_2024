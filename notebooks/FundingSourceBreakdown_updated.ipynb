{
 "cells": [
  {
   "cell_type": "code",
   "execution_count": 1,
   "id": "0d88b8d4-8b6e-401d-901d-e5347a7c9f7d",
   "metadata": {},
   "outputs": [],
   "source": [
    "import pandas\n",
    "\n",
    "import utils"
   ]
  },
  {
   "cell_type": "code",
   "execution_count": 2,
   "id": "48e2bcb6-60bf-4f72-a0e3-91cf04475a5f",
   "metadata": {},
   "outputs": [],
   "source": [
    "df = pandas.read_csv('../data/survey2024.csv')"
   ]
  },
  {
   "cell_type": "code",
   "execution_count": 3,
   "id": "0000ce5c-a4f9-43a0-a72d-f50d904193c5",
   "metadata": {},
   "outputs": [],
   "source": [
    "short_colnames = {'grants you apply for':'grants\\n(mine)',\n",
    "                  'grants someone else applies for':'grants\\n(others\\')',\n",
    "                  'internal granted funding':'internal',\n",
    "                  'recharge for consulting':'consulting',\n",
    "                  'recharge on image analysis projects (data analysis as a service)':'analysis\\nprojects',\n",
    "                  'recharge on other services (e.g. microscope time)':'microscope\\nfees',\n",
    "                  'I don\\'t know':\"I don\\'t\\nknow\"}\n",
    "long_colnames = {f'Q5: If you work in a facility: how much of your budget comes from each of these? Please do not answer if you do not work in a facility. [{k}]':v for k,v in short_colnames.items()}\n",
    "\n",
    "utils.normalized_percent_graphs(df,long_colnames,'../figures/FundingSources.png',cmap='viridis')"
   ]
  }
 ],
 "metadata": {
  "kernelspec": {
   "display_name": "Conda base",
   "language": "python",
   "name": "base"
  },
  "language_info": {
   "codemirror_mode": {
    "name": "ipython",
    "version": 3
   },
   "file_extension": ".py",
   "mimetype": "text/x-python",
   "name": "python",
   "nbconvert_exporter": "python",
   "pygments_lexer": "ipython3",
   "version": "3.10.12"
  }
 },
 "nbformat": 4,
 "nbformat_minor": 5
}
