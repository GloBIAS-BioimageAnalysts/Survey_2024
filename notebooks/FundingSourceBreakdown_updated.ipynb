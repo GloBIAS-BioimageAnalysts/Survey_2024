{
 "cells": [
  {
   "cell_type": "code",
   "execution_count": 1,
   "id": "0d88b8d4-8b6e-401d-901d-e5347a7c9f7d",
   "metadata": {},
   "outputs": [],
   "source": [
    "import pandas\n",
    "\n",
    "import utils"
   ]
  },
  {
   "cell_type": "code",
   "execution_count": 2,
   "id": "48e2bcb6-60bf-4f72-a0e3-91cf04475a5f",
   "metadata": {},
   "outputs": [],
   "source": [
    "df = pandas.read_csv('../data/survey2024.csv')"
   ]
  },
  {
   "cell_type": "code",
   "execution_count": 3,
   "id": "0000ce5c-a4f9-43a0-a72d-f50d904193c5",
   "metadata": {},
   "outputs": [
    {
     "name": "stdout",
     "output_type": "stream",
     "text": [
      "Original shape: (291, 53)\n",
      "Shape after filtering: (166, 53)\n",
      "(110, 53) Q5: If you work in a facility: how much of your budget comes from each of these? Please do not answer if you do not work in a facility. [grants you apply for]\n",
      "0 %        49\n",
      "0-25%      42\n",
      "25-50%      9\n",
      "50-75%      9\n",
      "75-100%     1\n",
      "Name: count, dtype: int64\n",
      "(115, 53) Q5: If you work in a facility: how much of your budget comes from each of these? Please do not answer if you do not work in a facility. [grants someone else applies for]\n",
      "0-25%      52\n",
      "0 %        36\n",
      "25-50%     18\n",
      "75-100%     5\n",
      "50-75%      4\n",
      "Name: count, dtype: int64\n",
      "(118, 53) Q5: If you work in a facility: how much of your budget comes from each of these? Please do not answer if you do not work in a facility. [internal granted funding]\n",
      "0-25%      34\n",
      "25-50%     26\n",
      "50-75%     25\n",
      "75-100%    20\n",
      "0 %        13\n",
      "Name: count, dtype: int64\n",
      "(80, 53) Q5: If you work in a facility: how much of your budget comes from each of these? Please do not answer if you do not work in a facility. [recharge for consulting]\n",
      "0 %       55\n",
      "0-25%     20\n",
      "25-50%     3\n",
      "50-75%     2\n",
      "Name: count, dtype: int64\n",
      "(91, 53) Q5: If you work in a facility: how much of your budget comes from each of these? Please do not answer if you do not work in a facility. [recharge on image analysis projects (data analysis as a service)]\n",
      "0 %        42\n",
      "0-25%      34\n",
      "25-50%      9\n",
      "50-75%      5\n",
      "75-100%     1\n",
      "Name: count, dtype: int64\n",
      "(107, 53) Q5: If you work in a facility: how much of your budget comes from each of these? Please do not answer if you do not work in a facility. [recharge on other services (e.g. microscope time)]\n",
      "0-25%      32\n",
      "25-50%     27\n",
      "0 %        24\n",
      "50-75%     20\n",
      "75-100%     4\n",
      "Name: count, dtype: int64\n",
      "(59, 53) Q5: If you work in a facility: how much of your budget comes from each of these? Please do not answer if you do not work in a facility. [I don't know]\n",
      "0 %        32\n",
      "75-100%    18\n",
      "0-25%       5\n",
      "25-50%      3\n",
      "50-75%      1\n",
      "Name: count, dtype: int64\n",
      "Melted results     percent            variable     value\n",
      "0       0 %      grants\\n(mine)  0.445455\n",
      "1       0 %  analysis\\nprojects  0.461538\n",
      "2       0 %       I don't\\nknow  0.542373\n",
      "3       0 %   grants\\n(others')  0.313043\n",
      "4       0 %            internal  0.110169\n",
      "5       0 %    microscope\\nfees  0.224299\n",
      "6       0 %          consulting  0.687500\n",
      "7     0-25%  analysis\\nprojects  0.373626\n",
      "8     0-25%            internal  0.288136\n",
      "9     0-25%    microscope\\nfees  0.299065\n",
      "10    0-25%   grants\\n(others')  0.452174\n",
      "11    0-25%       I don't\\nknow  0.084746\n",
      "12    0-25%      grants\\n(mine)  0.381818\n",
      "13    0-25%          consulting  0.250000\n",
      "14   25-50%  analysis\\nprojects  0.098901\n",
      "15   25-50%       I don't\\nknow  0.050847\n",
      "16   25-50%    microscope\\nfees  0.252336\n",
      "17   25-50%          consulting  0.037500\n",
      "18   25-50%      grants\\n(mine)  0.081818\n",
      "19   25-50%            internal  0.220339\n",
      "20   25-50%   grants\\n(others')  0.156522\n",
      "21   50-75%          consulting  0.025000\n",
      "22   50-75%      grants\\n(mine)  0.081818\n",
      "23   50-75%    microscope\\nfees  0.186916\n",
      "24   50-75%       I don't\\nknow  0.016949\n",
      "25   50-75%   grants\\n(others')  0.034783\n",
      "26   50-75%  analysis\\nprojects  0.054945\n",
      "27   50-75%            internal  0.211864\n",
      "28  75-100%  analysis\\nprojects  0.010989\n",
      "29  75-100%    microscope\\nfees  0.037383\n",
      "30  75-100%      grants\\n(mine)  0.009091\n",
      "31  75-100%            internal  0.169492\n",
      "32  75-100%          consulting  0.000000\n",
      "33  75-100%   grants\\n(others')  0.043478\n",
      "34  75-100%       I don't\\nknow  0.305085\n"
     ]
    }
   ],
   "source": [
    "short_colnames = {'grants you apply for':'grants\\n(mine)',\n",
    "                  'grants someone else applies for':'grants\\n(others\\')',\n",
    "                  'internal granted funding':'internal',\n",
    "                  'recharge for consulting':'consulting',\n",
    "                  'recharge on image analysis projects (data analysis as a service)':'analysis\\nprojects',\n",
    "                  'recharge on other services (e.g. microscope time)':'microscope\\nfees',\n",
    "                  'I don\\'t know':\"I don\\'t\\nknow\"}\n",
    "long_colnames = {f'Q5: If you work in a facility: how much of your budget comes from each of these? Please do not answer if you do not work in a facility. [{k}]':v for k,v in short_colnames.items()}\n",
    "\n",
    "utils.normalized_percent_graphs(df,long_colnames,'../figures/FundingSources.png',prints=True)"
   ]
  },
  {
   "cell_type": "code",
   "execution_count": null,
   "id": "9f99a9ca-4616-4830-aaf4-f8f86f41be66",
   "metadata": {},
   "outputs": [],
   "source": []
  }
 ],
 "metadata": {
  "kernelspec": {
   "display_name": "Conda base",
   "language": "python",
   "name": "base"
  },
  "language_info": {
   "codemirror_mode": {
    "name": "ipython",
    "version": 3
   },
   "file_extension": ".py",
   "mimetype": "text/x-python",
   "name": "python",
   "nbconvert_exporter": "python",
   "pygments_lexer": "ipython3",
   "version": "3.10.12"
  }
 },
 "nbformat": 4,
 "nbformat_minor": 5
}
