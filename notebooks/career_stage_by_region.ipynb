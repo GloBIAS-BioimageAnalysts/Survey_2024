{
 "cells": [
  {
   "cell_type": "code",
   "execution_count": 1,
   "metadata": {},
   "outputs": [],
   "source": [
    "# read in data\n",
    "import pandas\n",
    "import utils\n",
    "\n",
    "df = pandas.read_csv('../data/survey2024_headerscleaned.csv')"
   ]
  },
  {
   "cell_type": "code",
   "execution_count": 2,
   "metadata": {},
   "outputs": [],
   "source": [
    "# map answers into estimated seniority level\n",
    "\n",
    "# pre-postdoc\n",
    "junior_positions = [\n",
    "    \"phd student\", \n",
    "    \"msc student\", \n",
    "    \"postgraduate student\"\n",
    "]\n",
    "\n",
    "# postdoc to junior PI/assistant prof\n",
    "midcareer_positions = [\n",
    "    'junior group leader',\n",
    "    \"assistant professor\",\n",
    "    \"postdoc\",\n",
    "    \"postdoctoral researcher\"\n",
    "]\n",
    "\n",
    "# associate prof+\n",
    "leadership_positions = [\n",
    "    \"associate pofessor\",\n",
    "    \"associate professor\",\n",
    "    \"core facility head\", \n",
    "    \"professor\",\n",
    "    'director of data',\n",
    "    \"research director\",\n",
    "    \"principal scientist\",\n",
    "    ]\n",
    "\n",
    "# typically contain one or more of \n",
    "# {engineer, scientist, researcher, specialist, staff}\n",
    "# but do not contain {manager, director, <other indication of seniority>}\n",
    "staff_positions = [\n",
    "    \"clinical data scientist\",\n",
    "    \"research software engineer\",\n",
    "    \"research software engineer (with a strong interest in image analysis)\",\n",
    "    \"industry scientist\",\n",
    "    \"staff scientist researcher\",\n",
    "    \"staff scientist researcher,\",\n",
    "    \"microscopy research technician\",\n",
    "    \"industrial materials scientist\",\n",
    "    \"software application specialist\",\n",
    "    \"bioimage analyst\",\n",
    "    \"industry researcher\",\n",
    "    \"it staff\",\n",
    "    \"ai and analysis\",\n",
    "    \"microscopy specialist\",\n",
    "    \"research scientist\",\n",
    "    \"staff scientist researcher\",\n",
    "    \"research engineer\",\n",
    "    \"staff scientist in a core facility\",\n",
    "    \"staff engineer in a core facility\",\n",
    "]\n",
    "\n",
    " "
   ]
  },
  {
   "cell_type": "code",
   "execution_count": 3,
   "metadata": {},
   "outputs": [
    {
     "ename": "ValueError",
     "evalue": "Unknown position: staff scientist in a core facility",
     "output_type": "error",
     "traceback": [
      "\u001b[0;31m---------------------------------------------------------------------------\u001b[0m",
      "\u001b[0;31mValueError\u001b[0m                                Traceback (most recent call last)",
      "Cell \u001b[0;32mIn[3], line 24\u001b[0m\n\u001b[1;32m     22\u001b[0m junior \u001b[38;5;241m=\u001b[39m v \u001b[38;5;129;01min\u001b[39;00m junior_positions\n\u001b[1;32m     23\u001b[0m \u001b[38;5;28;01mif\u001b[39;00m \u001b[38;5;129;01mnot\u001b[39;00m (mid \u001b[38;5;129;01mor\u001b[39;00m lead \u001b[38;5;129;01mor\u001b[39;00m staff \u001b[38;5;129;01mor\u001b[39;00m junior):\n\u001b[0;32m---> 24\u001b[0m     \u001b[38;5;28;01mraise\u001b[39;00m \u001b[38;5;167;01mValueError\u001b[39;00m(\u001b[38;5;124mf\u001b[39m\u001b[38;5;124m\"\u001b[39m\u001b[38;5;124mUnknown position: \u001b[39m\u001b[38;5;132;01m{\u001b[39;00mv\u001b[38;5;132;01m}\u001b[39;00m\u001b[38;5;124m\"\u001b[39m)\n\u001b[1;32m     26\u001b[0m \u001b[38;5;28;01mif\u001b[39;00m v \u001b[38;5;129;01min\u001b[39;00m junior_positions:\n\u001b[1;32m     27\u001b[0m     options_dict[original_value]\u001b[38;5;241m=\u001b[39m\u001b[38;5;124m\"\u001b[39m\u001b[38;5;124mjunior\u001b[39m\u001b[38;5;124m\"\u001b[39m\n",
      "\u001b[0;31mValueError\u001b[0m: Unknown position: staff scientist in a core facility"
     ]
    }
   ],
   "source": [
    "\n",
    "# create options_dict for plot according to classification above\n",
    "position_column = df['Which of these describe your position Choose all options that apply']\n",
    "options_dict = {}\n",
    "\n",
    "for i, value in enumerate(position_column):\n",
    "    if not isinstance(value, str):\n",
    "        assert str(value)==\"nan\"\n",
    "        continue # some rows contain nan\n",
    "    value = value.split(', ')\n",
    "    for v in value:\n",
    "        if not v:\n",
    "            continue\n",
    "        if v[0]==' ':\n",
    "            v = v[1:]\n",
    "        if v[-1]==' ':\n",
    "            v = v[:-1]\n",
    "        original_value = v\n",
    "        v = v.lower() \n",
    "        mid = v in midcareer_positions\n",
    "        lead = v in leadership_positions\n",
    "        staff = v in staff_positions\n",
    "        junior = v in junior_positions\n",
    "        if not (mid or lead or staff or junior):\n",
    "            raise ValueError(f\"Unknown position: {v}\")\n",
    "        \n",
    "        if v in junior_positions:\n",
    "            options_dict[original_value]=\"junior\"\n",
    "        if v in midcareer_positions:\n",
    "            options_dict[original_value]=\"mid-career\"\n",
    "        if v in leadership_positions:\n",
    "            options_dict[original_value]=\"leader\"\n",
    "        if v in staff_positions:\n",
    "            options_dict[original_value]=\"staff\"\n"
   ]
  },
  {
   "cell_type": "code",
   "execution_count": null,
   "metadata": {},
   "outputs": [],
   "source": [
    "question_col = 'Which of these describe your position Choose all options that apply'\n",
    "region_facet_col = 'What is your location'\n",
    "utils.select_all_that_apply_hist_facet(df,question_col,'../figures/age_byregion_color.png',\n",
    "                                       options_dict=options_dict,facet_col=region_facet_col,how='color')\n",
    "utils.select_all_that_apply_hist_facet(df,question_col,'../figures/age_byregion_color.svg',\n",
    "                                       options_dict=options_dict,facet_col=region_facet_col,how='color')\n"
   ]
  },
  {
   "cell_type": "code",
   "execution_count": null,
   "metadata": {},
   "outputs": [],
   "source": []
  }
 ],
 "metadata": {
  "kernelspec": {
   "display_name": "Python 3",
   "language": "python",
   "name": "python3"
  },
  "language_info": {
   "codemirror_mode": {
    "name": "ipython",
    "version": 3
   },
   "file_extension": ".py",
   "mimetype": "text/x-python",
   "name": "python",
   "nbconvert_exporter": "python",
   "pygments_lexer": "ipython3",
   "version": "3.10.14"
  }
 },
 "nbformat": 4,
 "nbformat_minor": 2
}
