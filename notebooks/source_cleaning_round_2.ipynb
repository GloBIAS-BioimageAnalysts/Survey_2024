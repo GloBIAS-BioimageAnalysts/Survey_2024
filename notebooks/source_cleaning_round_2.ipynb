{
 "cells": [
  {
   "cell_type": "code",
   "execution_count": 1,
   "metadata": {},
   "outputs": [],
   "source": [
    "import pandas\n",
    "df = pandas.read_csv('../data/survey2024.csv')"
   ]
  },
  {
   "cell_type": "code",
   "execution_count": 2,
   "metadata": {},
   "outputs": [],
   "source": [
    "#no sense in getting fancy here, brute force is fine\n",
    "for x in df.columns:\n",
    "    fixed_name=x\n",
    "    to_remove = ['(',')',':','?','.','\"','“','”']\n",
    "    for y in to_remove:\n",
    "        fixed_name = fixed_name.replace(y,'')\n",
    "    fixed_name = fixed_name.replace('/','or')\n",
    "    df.rename(columns={x:fixed_name},inplace=True)\n",
    "df.to_csv('../data/survey2024_headerscleaned.csv')"
   ]
  },
  {
   "cell_type": "code",
   "execution_count": 1,
   "metadata": {},
   "outputs": [],
   "source": [
    "import pandas\n",
    "df = pandas.read_csv('../data/survey2024_headerscleaned.csv')"
   ]
  },
  {
   "cell_type": "code",
   "execution_count": 2,
   "metadata": {},
   "outputs": [],
   "source": [
    "# Q1 - switch comma for and\n",
    "\n",
    "rep_dict = {\n",
    "    \"Life sciences research (planning, executing and analysing a range of experiments)\": \"Life sciences research (planning and executing and analysing a range of experiments)\",\n",
    "    \"Imaging (sample preparation optimisation, acquiring images and data)\": \"Imaging (sample preparation optimisation and acquiring images and data)\",\n",
    "    \"Imaging support (guidelines and tips for sample preparation optimisation, deciding on imaging modalities, help with acquisition of images and data)\": \"Imaging support (guidelines and tips for sample preparation optimisation and deciding on imaging modalities and help with acquisition of images and data)\",\n",
    "    \"Image analysis (finding the right tools to analyse a particular experiment, optimizing the analysis, data mining)\":\"Image analysis (finding the right tools to analyse a particular experiment and optimizing the analysis and data mining)\",\n",
    "    \"Software engineering and/or method development (building tools, implementing state-of-the-art computer vision/ML-research)\":\"Software engineering and/or method development (building tools and implementing state-of-the-art computer vision/ML-research)\",\n",
    "    \"Microscope development (building microscope and add-ons to microscope, development of software tools for control and data analysis for self-built systems)\":\"Microscope development (building microscope and add-ons to microscope and development of software tools for control and data analysis for self-built systems)\",\n",
    "}\n",
    "\n",
    "question = \"Q1 How would you describe your work  Choose all options that apply\"\n",
    "\n",
    "for k,v in rep_dict.items():\n",
    "    df[question] = df[question].str.replace(k,v,regex=False)\n",
    "\n"
   ]
  },
  {
   "cell_type": "code",
   "execution_count": 3,
   "metadata": {},
   "outputs": [],
   "source": [
    "# Q4 - just remove the one comma\n",
    "rep_dict = {\"recharge on other products (microscope time, etc)\":\"recharge on other products (microscope time etc)\"}\n",
    "\n",
    "question = \"Q4 If you work in a facility what are the operatingorbusiness models of your facility Choose all options that apply Please do not answer if you do not work in a facility\"\n",
    "\n",
    "for k,v in rep_dict.items():\n",
    "    df[question] = df[question].str.replace(k,v,regex=False)\n"
   ]
  },
  {
   "cell_type": "code",
   "execution_count": 4,
   "metadata": {},
   "outputs": [],
   "source": [
    "# Q16 - just remove the one comma\n",
    "rep_dict = {\"I would cover by myself anyway, because I think it is worth it\":\"I would cover by myself anyway because I think it is worth it\"}\n",
    "\n",
    "question = \"Q16 Would your institution cover such membership fees\"\n",
    "\n",
    "for k,v in rep_dict.items():\n",
    "    df[question] = df[question].str.replace(k,v,regex=False)"
   ]
  },
  {
   "cell_type": "code",
   "execution_count": 7,
   "metadata": {},
   "outputs": [],
   "source": [
    "# Q17 - switch comma for and\n",
    "rep_dict = {\"outreach activities of society: social media channels, conference presentations\":\"outreach activities of society: social media channels and conference presentations\",\n",
    "\"education: hosting trainings (such as NEUBIAS Academy - style videos) and preparation of training material for bioimage analysis trainings, e.g. outlines, data and set-up for bioimage analysis trainings at different levels\":\"education: hosting trainings (such as NEUBIAS Academy - style videos) and preparation of training material for bioimage analysis trainings e.g. outlines and data and set-up for bioimage analysis trainings at different levels\"}\n",
    "\n",
    "question = \"Q17 Would you be interested in joining a working group of the society after its foundation for any of the following areas\"\n",
    "\n",
    "for k,v in rep_dict.items():\n",
    "    df[question] = df[question].str.replace(k,v,regex=False)"
   ]
  },
  {
   "cell_type": "code",
   "execution_count": 8,
   "metadata": {},
   "outputs": [],
   "source": [
    "df.to_csv('../data/survey2024_headersandcommascleaned.csv',index=False)"
   ]
  }
 ],
 "metadata": {
  "kernelspec": {
   "display_name": "Conda base",
   "language": "python",
   "name": "base"
  },
  "language_info": {
   "codemirror_mode": {
    "name": "ipython",
    "version": 3
   },
   "file_extension": ".py",
   "mimetype": "text/x-python",
   "name": "python",
   "nbconvert_exporter": "python",
   "pygments_lexer": "ipython3",
   "version": "3.10.12"
  }
 },
 "nbformat": 4,
 "nbformat_minor": 2
}
