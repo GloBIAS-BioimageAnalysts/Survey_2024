{
 "cells": [
  {
   "cell_type": "code",
   "execution_count": 1,
   "metadata": {},
   "outputs": [],
   "source": [
    "import pandas\n",
    "df = pandas.read_csv('../data/survey2024.csv')"
   ]
  },
  {
   "cell_type": "code",
   "execution_count": 4,
   "metadata": {},
   "outputs": [],
   "source": [
    "#no sense in getting fancy here, brute force is fine\n",
    "for x in df.columns:\n",
    "    fixed_name=x\n",
    "    to_remove = ['(',')',':','?','.','\"']\n",
    "    for y in to_remove:\n",
    "        fixed_name = fixed_name.replace(y,'')\n",
    "    fixed_name = fixed_name.replace('/','or')\n",
    "    df.rename(columns={x:fixed_name},inplace=True)\n",
    "df.to_csv('../data/survey2024_headerscleaned.csv')"
   ]
  }
 ],
 "metadata": {
  "kernelspec": {
   "display_name": "Conda base",
   "language": "python",
   "name": "base"
  },
  "language_info": {
   "codemirror_mode": {
    "name": "ipython",
    "version": 3
   },
   "file_extension": ".py",
   "mimetype": "text/x-python",
   "name": "python",
   "nbconvert_exporter": "python",
   "pygments_lexer": "ipython3",
   "version": "3.10.12"
  }
 },
 "nbformat": 4,
 "nbformat_minor": 2
}
